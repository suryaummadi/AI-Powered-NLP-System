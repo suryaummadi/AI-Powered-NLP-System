{
 "cells": [
  {
   "cell_type": "markdown",
   "metadata": {
    "execution": {
     "iopub.execute_input": "2025-07-27T20:05:48.149874Z",
     "iopub.status.busy": "2025-07-27T20:05:48.149543Z",
     "iopub.status.idle": "2025-07-27T20:05:48.155965Z",
     "shell.execute_reply": "2025-07-27T20:05:48.154498Z",
     "shell.execute_reply.started": "2025-07-27T20:05:48.149847Z"
    }
   },
   "source": [
    "# Importing Libraries"
   ]
  },
  {
   "cell_type": "code",
   "execution_count": 7,
   "metadata": {
    "execution": {
     "iopub.execute_input": "2025-07-27T20:54:04.343576Z",
     "iopub.status.busy": "2025-07-27T20:54:04.342893Z",
     "iopub.status.idle": "2025-07-27T20:54:04.346838Z",
     "shell.execute_reply": "2025-07-27T20:54:04.346051Z",
     "shell.execute_reply.started": "2025-07-27T20:54:04.343530Z"
    }
   },
   "outputs": [],
   "source": [
    "import numpy as np\n",
    "import pandas as pd"
   ]
  },
  {
   "cell_type": "markdown",
   "metadata": {},
   "source": [
    "# Loading the dataset"
   ]
  },
  {
   "cell_type": "code",
   "execution_count": 8,
   "metadata": {
    "execution": {
     "iopub.execute_input": "2025-07-27T20:54:04.698966Z",
     "iopub.status.busy": "2025-07-27T20:54:04.698522Z",
     "iopub.status.idle": "2025-07-27T20:54:07.086947Z",
     "shell.execute_reply": "2025-07-27T20:54:07.086361Z",
     "shell.execute_reply.started": "2025-07-27T20:54:04.698943Z"
    }
   },
   "outputs": [
    {
     "data": {
      "application/vnd.jupyter.widget-view+json": {
       "model_id": "8209cd03764c4254bc35cf46112d3c71",
       "version_major": 2,
       "version_minor": 0
      },
      "text/plain": [
       "train.csv: 0.00B [00:00, ?B/s]"
      ]
     },
     "metadata": {},
     "output_type": "display_data"
    },
    {
     "data": {
      "application/vnd.jupyter.widget-view+json": {
       "model_id": "b9293c9e1c5f45f3b177c0d4acff8f5f",
       "version_major": 2,
       "version_minor": 0
      },
      "text/plain": [
       "validation.csv: 0.00B [00:00, ?B/s]"
      ]
     },
     "metadata": {},
     "output_type": "display_data"
    },
    {
     "data": {
      "application/vnd.jupyter.widget-view+json": {
       "model_id": "1ce088cca98c45a2af617fde2b7babd0",
       "version_major": 2,
       "version_minor": 0
      },
      "text/plain": [
       "test.csv: 0.00B [00:00, ?B/s]"
      ]
     },
     "metadata": {},
     "output_type": "display_data"
    },
    {
     "data": {
      "application/vnd.jupyter.widget-view+json": {
       "model_id": "f18cb1b4cfcc4afe909be064524c1380",
       "version_major": 2,
       "version_minor": 0
      },
      "text/plain": [
       "testing%20-%20Sheet1%20%283%29.csv: 0.00B [00:00, ?B/s]"
      ]
     },
     "metadata": {},
     "output_type": "display_data"
    },
    {
     "data": {
      "application/vnd.jupyter.widget-view+json": {
       "model_id": "8c2470f016a748cb856f9bc406b19a63",
       "version_major": 2,
       "version_minor": 0
      },
      "text/plain": [
       "Generating train split:   0%|          | 0/2099 [00:00<?, ? examples/s]"
      ]
     },
     "metadata": {},
     "output_type": "display_data"
    },
    {
     "data": {
      "application/vnd.jupyter.widget-view+json": {
       "model_id": "4338a3bb9261434a9dffe7c08ee1d184",
       "version_major": 2,
       "version_minor": 0
      },
      "text/plain": [
       "Generating validation split:   0%|          | 0/599 [00:00<?, ? examples/s]"
      ]
     },
     "metadata": {},
     "output_type": "display_data"
    },
    {
     "data": {
      "application/vnd.jupyter.widget-view+json": {
       "model_id": "e5f2d4bb44d6410d83c20c5dae247dee",
       "version_major": 2,
       "version_minor": 0
      },
      "text/plain": [
       "Generating test split:   0%|          | 0/301 [00:00<?, ? examples/s]"
      ]
     },
     "metadata": {},
     "output_type": "display_data"
    }
   ],
   "source": [
    "from datasets import load_dataset\n",
    "\n",
    "ds = load_dataset(\"Kenneth12/productreviewsentiment\")"
   ]
  },
  {
   "cell_type": "code",
   "execution_count": 9,
   "metadata": {
    "execution": {
     "iopub.execute_input": "2025-07-27T20:54:07.088180Z",
     "iopub.status.busy": "2025-07-27T20:54:07.087981Z",
     "iopub.status.idle": "2025-07-27T20:54:07.093054Z",
     "shell.execute_reply": "2025-07-27T20:54:07.092254Z",
     "shell.execute_reply.started": "2025-07-27T20:54:07.088165Z"
    }
   },
   "outputs": [
    {
     "data": {
      "text/plain": [
       "DatasetDict({\n",
       "    train: Dataset({\n",
       "        features: ['Text', 'Label'],\n",
       "        num_rows: 2099\n",
       "    })\n",
       "    validation: Dataset({\n",
       "        features: ['Text', 'Label'],\n",
       "        num_rows: 599\n",
       "    })\n",
       "    test: Dataset({\n",
       "        features: ['Text', 'Label'],\n",
       "        num_rows: 301\n",
       "    })\n",
       "})"
      ]
     },
     "execution_count": 9,
     "metadata": {},
     "output_type": "execute_result"
    }
   ],
   "source": [
    "ds"
   ]
  },
  {
   "cell_type": "code",
   "execution_count": 10,
   "metadata": {
    "execution": {
     "iopub.execute_input": "2025-07-27T20:54:07.094168Z",
     "iopub.status.busy": "2025-07-27T20:54:07.093953Z",
     "iopub.status.idle": "2025-07-27T20:54:07.109947Z",
     "shell.execute_reply": "2025-07-27T20:54:07.109188Z",
     "shell.execute_reply.started": "2025-07-27T20:54:07.094154Z"
    }
   },
   "outputs": [],
   "source": [
    "df = ds.copy()"
   ]
  },
  {
   "cell_type": "markdown",
   "metadata": {
    "execution": {
     "iopub.execute_input": "2025-07-27T20:07:29.338761Z",
     "iopub.status.busy": "2025-07-27T20:07:29.338341Z",
     "iopub.status.idle": "2025-07-27T20:07:29.345103Z",
     "shell.execute_reply": "2025-07-27T20:07:29.343800Z",
     "shell.execute_reply.started": "2025-07-27T20:07:29.338733Z"
    }
   },
   "source": [
    "# Data Cleaning"
   ]
  },
  {
   "cell_type": "markdown",
   "metadata": {},
   "source": [
    "## Training data cleaning"
   ]
  },
  {
   "cell_type": "code",
   "execution_count": 11,
   "metadata": {
    "execution": {
     "iopub.execute_input": "2025-07-27T20:54:09.953505Z",
     "iopub.status.busy": "2025-07-27T20:54:09.953235Z",
     "iopub.status.idle": "2025-07-27T20:54:10.021162Z",
     "shell.execute_reply": "2025-07-27T20:54:10.020588Z",
     "shell.execute_reply.started": "2025-07-27T20:54:09.953485Z"
    }
   },
   "outputs": [
    {
     "data": {
      "text/html": [
       "<div>\n",
       "<style scoped>\n",
       "    .dataframe tbody tr th:only-of-type {\n",
       "        vertical-align: middle;\n",
       "    }\n",
       "\n",
       "    .dataframe tbody tr th {\n",
       "        vertical-align: top;\n",
       "    }\n",
       "\n",
       "    .dataframe thead th {\n",
       "        text-align: right;\n",
       "    }\n",
       "</style>\n",
       "<table border=\"1\" class=\"dataframe\">\n",
       "  <thead>\n",
       "    <tr style=\"text-align: right;\">\n",
       "      <th></th>\n",
       "      <th>Text</th>\n",
       "      <th>Label</th>\n",
       "    </tr>\n",
       "  </thead>\n",
       "  <tbody>\n",
       "    <tr>\n",
       "      <th>0</th>\n",
       "      <td>McCann's makes oatmeal for every oatmeal conno...</td>\n",
       "      <td>positive</td>\n",
       "    </tr>\n",
       "    <tr>\n",
       "      <th>1</th>\n",
       "      <td>This wasn't in stock the last time I looked. I...</td>\n",
       "      <td>positive</td>\n",
       "    </tr>\n",
       "    <tr>\n",
       "      <th>2</th>\n",
       "      <td>Buyer Beware Please! This sweetener is not for...</td>\n",
       "      <td>negative</td>\n",
       "    </tr>\n",
       "    <tr>\n",
       "      <th>3</th>\n",
       "      <td>I have been drinking Royal King 100% Natural O...</td>\n",
       "      <td>positive</td>\n",
       "    </tr>\n",
       "    <tr>\n",
       "      <th>4</th>\n",
       "      <td>I had heard a little about this product from t...</td>\n",
       "      <td>positive</td>\n",
       "    </tr>\n",
       "  </tbody>\n",
       "</table>\n",
       "</div>"
      ],
      "text/plain": [
       "                                                Text     Label\n",
       "0  McCann's makes oatmeal for every oatmeal conno...  positive\n",
       "1  This wasn't in stock the last time I looked. I...  positive\n",
       "2  Buyer Beware Please! This sweetener is not for...  negative\n",
       "3  I have been drinking Royal King 100% Natural O...  positive\n",
       "4  I had heard a little about this product from t...  positive"
      ]
     },
     "execution_count": 11,
     "metadata": {},
     "output_type": "execute_result"
    }
   ],
   "source": [
    "df_train = pd.DataFrame(df['train'])\n",
    "df_train.head()"
   ]
  },
  {
   "cell_type": "code",
   "execution_count": 12,
   "metadata": {
    "execution": {
     "iopub.execute_input": "2025-07-27T20:54:10.080164Z",
     "iopub.status.busy": "2025-07-27T20:54:10.079949Z",
     "iopub.status.idle": "2025-07-27T20:54:10.088335Z",
     "shell.execute_reply": "2025-07-27T20:54:10.087720Z",
     "shell.execute_reply.started": "2025-07-27T20:54:10.080147Z"
    }
   },
   "outputs": [
    {
     "data": {
      "text/plain": [
       "Label\n",
       "positive     1584\n",
       "negative      383\n",
       "neutral       130\n",
       "positiive       1\n",
       "positve         1\n",
       "Name: count, dtype: int64"
      ]
     },
     "execution_count": 12,
     "metadata": {},
     "output_type": "execute_result"
    }
   ],
   "source": [
    "df_train['Label'].value_counts()"
   ]
  },
  {
   "cell_type": "code",
   "execution_count": 13,
   "metadata": {
    "execution": {
     "iopub.execute_input": "2025-07-27T20:54:10.457978Z",
     "iopub.status.busy": "2025-07-27T20:54:10.457684Z",
     "iopub.status.idle": "2025-07-27T20:54:10.464362Z",
     "shell.execute_reply": "2025-07-27T20:54:10.463661Z",
     "shell.execute_reply.started": "2025-07-27T20:54:10.457958Z"
    }
   },
   "outputs": [],
   "source": [
    "# Define a mapping for misspelled labels to correct ones\n",
    "corrections = {\n",
    "    'positiive': 'positive',\n",
    "    'positve': 'positive',\n",
    "}\n",
    "\n",
    "# Replace misspelled labels with correct ones\n",
    "df_train['Label'] = df_train['Label'].replace(corrections)"
   ]
  },
  {
   "cell_type": "code",
   "execution_count": 14,
   "metadata": {
    "execution": {
     "iopub.execute_input": "2025-07-27T20:54:10.649971Z",
     "iopub.status.busy": "2025-07-27T20:54:10.649386Z",
     "iopub.status.idle": "2025-07-27T20:54:10.655266Z",
     "shell.execute_reply": "2025-07-27T20:54:10.654715Z",
     "shell.execute_reply.started": "2025-07-27T20:54:10.649952Z"
    }
   },
   "outputs": [
    {
     "data": {
      "text/plain": [
       "Label\n",
       "positive    1586\n",
       "negative     383\n",
       "neutral      130\n",
       "Name: count, dtype: int64"
      ]
     },
     "execution_count": 14,
     "metadata": {},
     "output_type": "execute_result"
    }
   ],
   "source": [
    "df_train['Label'].value_counts()"
   ]
  },
  {
   "cell_type": "markdown",
   "metadata": {},
   "source": [
    "## Validation data cleaning"
   ]
  },
  {
   "cell_type": "code",
   "execution_count": 15,
   "metadata": {
    "execution": {
     "iopub.execute_input": "2025-07-27T20:54:10.979099Z",
     "iopub.status.busy": "2025-07-27T20:54:10.978825Z",
     "iopub.status.idle": "2025-07-27T20:54:11.002953Z",
     "shell.execute_reply": "2025-07-27T20:54:11.002368Z",
     "shell.execute_reply.started": "2025-07-27T20:54:10.979073Z"
    }
   },
   "outputs": [
    {
     "data": {
      "text/html": [
       "<div>\n",
       "<style scoped>\n",
       "    .dataframe tbody tr th:only-of-type {\n",
       "        vertical-align: middle;\n",
       "    }\n",
       "\n",
       "    .dataframe tbody tr th {\n",
       "        vertical-align: top;\n",
       "    }\n",
       "\n",
       "    .dataframe thead th {\n",
       "        text-align: right;\n",
       "    }\n",
       "</style>\n",
       "<table border=\"1\" class=\"dataframe\">\n",
       "  <thead>\n",
       "    <tr style=\"text-align: right;\">\n",
       "      <th></th>\n",
       "      <th>Text</th>\n",
       "      <th>Label</th>\n",
       "    </tr>\n",
       "  </thead>\n",
       "  <tbody>\n",
       "    <tr>\n",
       "      <th>0</th>\n",
       "      <td>I love chai. I used to buy loose leaf chai fro...</td>\n",
       "      <td>negative</td>\n",
       "    </tr>\n",
       "    <tr>\n",
       "      <th>1</th>\n",
       "      <td>Someone brought a couple of Lindt Chocolates t...</td>\n",
       "      <td>positive</td>\n",
       "    </tr>\n",
       "    <tr>\n",
       "      <th>2</th>\n",
       "      <td>I'd been told this stuff tasted like Spam, but...</td>\n",
       "      <td>positive</td>\n",
       "    </tr>\n",
       "    <tr>\n",
       "      <th>3</th>\n",
       "      <td>If you've never had real Swiss fondue, you're ...</td>\n",
       "      <td>positive</td>\n",
       "    </tr>\n",
       "    <tr>\n",
       "      <th>4</th>\n",
       "      <td>I feed Hills Science diet to my pet because I ...</td>\n",
       "      <td>positive</td>\n",
       "    </tr>\n",
       "  </tbody>\n",
       "</table>\n",
       "</div>"
      ],
      "text/plain": [
       "                                                Text     Label\n",
       "0  I love chai. I used to buy loose leaf chai fro...  negative\n",
       "1  Someone brought a couple of Lindt Chocolates t...  positive\n",
       "2  I'd been told this stuff tasted like Spam, but...  positive\n",
       "3  If you've never had real Swiss fondue, you're ...  positive\n",
       "4  I feed Hills Science diet to my pet because I ...  positive"
      ]
     },
     "execution_count": 15,
     "metadata": {},
     "output_type": "execute_result"
    }
   ],
   "source": [
    "df_val = pd.DataFrame(df['validation'])\n",
    "df_val.head()"
   ]
  },
  {
   "cell_type": "code",
   "execution_count": 16,
   "metadata": {
    "execution": {
     "iopub.execute_input": "2025-07-27T20:54:11.148828Z",
     "iopub.status.busy": "2025-07-27T20:54:11.148369Z",
     "iopub.status.idle": "2025-07-27T20:54:11.154757Z",
     "shell.execute_reply": "2025-07-27T20:54:11.154206Z",
     "shell.execute_reply.started": "2025-07-27T20:54:11.148802Z"
    }
   },
   "outputs": [
    {
     "data": {
      "text/plain": [
       "Label\n",
       "positive    447\n",
       "negative    152\n",
       "Name: count, dtype: int64"
      ]
     },
     "execution_count": 16,
     "metadata": {},
     "output_type": "execute_result"
    }
   ],
   "source": [
    "df_val['Label'].value_counts()"
   ]
  },
  {
   "cell_type": "markdown",
   "metadata": {},
   "source": [
    "## Test data cleaning"
   ]
  },
  {
   "cell_type": "code",
   "execution_count": 17,
   "metadata": {
    "execution": {
     "iopub.execute_input": "2025-07-27T20:54:11.482683Z",
     "iopub.status.busy": "2025-07-27T20:54:11.482426Z",
     "iopub.status.idle": "2025-07-27T20:54:11.499649Z",
     "shell.execute_reply": "2025-07-27T20:54:11.498934Z",
     "shell.execute_reply.started": "2025-07-27T20:54:11.482663Z"
    }
   },
   "outputs": [
    {
     "data": {
      "text/html": [
       "<div>\n",
       "<style scoped>\n",
       "    .dataframe tbody tr th:only-of-type {\n",
       "        vertical-align: middle;\n",
       "    }\n",
       "\n",
       "    .dataframe tbody tr th {\n",
       "        vertical-align: top;\n",
       "    }\n",
       "\n",
       "    .dataframe thead th {\n",
       "        text-align: right;\n",
       "    }\n",
       "</style>\n",
       "<table border=\"1\" class=\"dataframe\">\n",
       "  <thead>\n",
       "    <tr style=\"text-align: right;\">\n",
       "      <th></th>\n",
       "      <th>Text</th>\n",
       "      <th>Label</th>\n",
       "    </tr>\n",
       "  </thead>\n",
       "  <tbody>\n",
       "    <tr>\n",
       "      <th>0</th>\n",
       "      <td>I tried this The Switch Black Cherry flavor as...</td>\n",
       "      <td>positive</td>\n",
       "    </tr>\n",
       "    <tr>\n",
       "      <th>1</th>\n",
       "      <td>The Switch is an alternative to juice or soda....</td>\n",
       "      <td>positive</td>\n",
       "    </tr>\n",
       "    <tr>\n",
       "      <th>2</th>\n",
       "      <td>This is better than any commercially available...</td>\n",
       "      <td>positive</td>\n",
       "    </tr>\n",
       "    <tr>\n",
       "      <th>3</th>\n",
       "      <td>First, this is a household that VERY rarely dr...</td>\n",
       "      <td>positive</td>\n",
       "    </tr>\n",
       "    <tr>\n",
       "      <th>4</th>\n",
       "      <td>The Switch soda's are a, mostly, excellent alt...</td>\n",
       "      <td>positive</td>\n",
       "    </tr>\n",
       "  </tbody>\n",
       "</table>\n",
       "</div>"
      ],
      "text/plain": [
       "                                                Text     Label\n",
       "0  I tried this The Switch Black Cherry flavor as...  positive\n",
       "1  The Switch is an alternative to juice or soda....  positive\n",
       "2  This is better than any commercially available...  positive\n",
       "3  First, this is a household that VERY rarely dr...  positive\n",
       "4  The Switch soda's are a, mostly, excellent alt...  positive"
      ]
     },
     "execution_count": 17,
     "metadata": {},
     "output_type": "execute_result"
    }
   ],
   "source": [
    "df_test = pd.DataFrame(df['test'])\n",
    "df_test.head()"
   ]
  },
  {
   "cell_type": "code",
   "execution_count": 18,
   "metadata": {
    "execution": {
     "iopub.execute_input": "2025-07-27T20:54:11.956699Z",
     "iopub.status.busy": "2025-07-27T20:54:11.956001Z",
     "iopub.status.idle": "2025-07-27T20:54:11.962955Z",
     "shell.execute_reply": "2025-07-27T20:54:11.962182Z",
     "shell.execute_reply.started": "2025-07-27T20:54:11.956672Z"
    }
   },
   "outputs": [
    {
     "data": {
      "text/plain": [
       "Label\n",
       "positive     233\n",
       "negative      40\n",
       "neutral       24\n",
       "0              2\n",
       "positiive      1\n",
       "1              1\n",
       "Name: count, dtype: int64"
      ]
     },
     "execution_count": 18,
     "metadata": {},
     "output_type": "execute_result"
    }
   ],
   "source": [
    "df_test['Label'].value_counts()"
   ]
  },
  {
   "cell_type": "code",
   "execution_count": 19,
   "metadata": {
    "execution": {
     "iopub.execute_input": "2025-07-27T20:54:11.999930Z",
     "iopub.status.busy": "2025-07-27T20:54:11.999734Z",
     "iopub.status.idle": "2025-07-27T20:54:12.004688Z",
     "shell.execute_reply": "2025-07-27T20:54:12.004011Z",
     "shell.execute_reply.started": "2025-07-27T20:54:11.999914Z"
    }
   },
   "outputs": [],
   "source": [
    "# Define a mapping for misspelled labels to correct ones\n",
    "corrections = {\n",
    "    'positiive': 'positive',\n",
    "    '0' :  'negative',\n",
    "    '1' :  'neutral'\n",
    "}\n",
    "\n",
    "# Replace misspelled labels with correct ones\n",
    "df_test['Label'] = df_test['Label'].replace(corrections)"
   ]
  },
  {
   "cell_type": "code",
   "execution_count": 20,
   "metadata": {
    "execution": {
     "iopub.execute_input": "2025-07-27T20:54:12.058130Z",
     "iopub.status.busy": "2025-07-27T20:54:12.057964Z",
     "iopub.status.idle": "2025-07-27T20:54:12.063568Z",
     "shell.execute_reply": "2025-07-27T20:54:12.062908Z",
     "shell.execute_reply.started": "2025-07-27T20:54:12.058117Z"
    }
   },
   "outputs": [
    {
     "data": {
      "text/plain": [
       "Label\n",
       "positive    234\n",
       "negative     42\n",
       "neutral      25\n",
       "Name: count, dtype: int64"
      ]
     },
     "execution_count": 20,
     "metadata": {},
     "output_type": "execute_result"
    }
   ],
   "source": [
    "df_test['Label'].value_counts()"
   ]
  },
  {
   "cell_type": "markdown",
   "metadata": {
    "execution": {
     "iopub.execute_input": "2025-07-27T20:17:13.797439Z",
     "iopub.status.busy": "2025-07-27T20:17:13.797054Z",
     "iopub.status.idle": "2025-07-27T20:17:13.803045Z",
     "shell.execute_reply": "2025-07-27T20:17:13.801412Z",
     "shell.execute_reply.started": "2025-07-27T20:17:13.797412Z"
    }
   },
   "source": [
    "# Combining the data to reconsider for split"
   ]
  },
  {
   "cell_type": "code",
   "execution_count": 21,
   "metadata": {
    "execution": {
     "iopub.execute_input": "2025-07-27T20:54:12.117096Z",
     "iopub.status.busy": "2025-07-27T20:54:12.116685Z",
     "iopub.status.idle": "2025-07-27T20:54:12.189656Z",
     "shell.execute_reply": "2025-07-27T20:54:12.189088Z",
     "shell.execute_reply.started": "2025-07-27T20:54:12.117079Z"
    }
   },
   "outputs": [
    {
     "name": "stdout",
     "output_type": "stream",
     "text": [
      "Label\n",
      "positive    1626\n",
      "negative     428\n",
      "neutral      104\n",
      "Name: count, dtype: int64\n",
      "************************************\n",
      "Label\n",
      "positive    407\n",
      "negative    107\n",
      "neutral      26\n",
      "Name: count, dtype: int64\n"
     ]
    }
   ],
   "source": [
    "import pandas as pd\n",
    "from sklearn.model_selection import train_test_split\n",
    "\n",
    "combined_df = pd.concat([df_train, df_val], ignore_index=True)\n",
    "\n",
    "\n",
    "# Now do stratified split on combined data\n",
    "train_new, val_new = train_test_split(\n",
    "    combined_df,\n",
    "    test_size=0.2,\n",
    "    stratify=combined_df['Label'],  # to maintain class balance\n",
    "    random_state=42\n",
    ")\n",
    "\n",
    "print(train_new['Label'].value_counts())\n",
    "print(\"************************************\")\n",
    "print(val_new['Label'].value_counts())\n"
   ]
  },
  {
   "cell_type": "code",
   "execution_count": 22,
   "metadata": {
    "execution": {
     "iopub.execute_input": "2025-07-27T20:54:12.190717Z",
     "iopub.status.busy": "2025-07-27T20:54:12.190504Z",
     "iopub.status.idle": "2025-07-27T20:54:12.201989Z",
     "shell.execute_reply": "2025-07-27T20:54:12.201373Z",
     "shell.execute_reply.started": "2025-07-27T20:54:12.190702Z"
    }
   },
   "outputs": [
    {
     "name": "stdout",
     "output_type": "stream",
     "text": [
      "Label\n",
      "positive    400\n",
      "negative    400\n",
      "neutral     400\n",
      "Name: count, dtype: int64\n"
     ]
    }
   ],
   "source": [
    "import pandas as pd\n",
    "\n",
    "\n",
    "target_count = 400\n",
    "\n",
    "# Separate each class\n",
    "positive_df = train_new[train_new['Label'] == 'positive']\n",
    "negative_df = train_new[train_new['Label'] == 'negative']\n",
    "neutral_df = train_new[train_new['Label'] == 'neutral']\n",
    "\n",
    "# Undersample positive to 400\n",
    "positive_sampled = positive_df.sample(target_count, random_state=42)\n",
    "\n",
    "\n",
    "if len(negative_df) > target_count:\n",
    "    negative_sampled = negative_df.sample(target_count, random_state=42)\n",
    "else:\n",
    "    negative_sampled = negative_df\n",
    "\n",
    "# Oversample neutral to 400 by sampling with replacement\n",
    "neutral_oversampled = neutral_df.sample(target_count, replace=True, random_state=42)\n",
    "\n",
    "# Combine all\n",
    "train_balanced = pd.concat([positive_sampled, negative_sampled, neutral_oversampled]).reset_index(drop=True)\n",
    "\n",
    "# Check new counts\n",
    "print(train_balanced['Label'].value_counts())\n"
   ]
  },
  {
   "cell_type": "code",
   "execution_count": 23,
   "metadata": {
    "execution": {
     "iopub.execute_input": "2025-07-27T20:54:12.213242Z",
     "iopub.status.busy": "2025-07-27T20:54:12.212835Z",
     "iopub.status.idle": "2025-07-27T20:54:12.221959Z",
     "shell.execute_reply": "2025-07-27T20:54:12.221349Z",
     "shell.execute_reply.started": "2025-07-27T20:54:12.213225Z"
    }
   },
   "outputs": [
    {
     "data": {
      "text/html": [
       "<div>\n",
       "<style scoped>\n",
       "    .dataframe tbody tr th:only-of-type {\n",
       "        vertical-align: middle;\n",
       "    }\n",
       "\n",
       "    .dataframe tbody tr th {\n",
       "        vertical-align: top;\n",
       "    }\n",
       "\n",
       "    .dataframe thead th {\n",
       "        text-align: right;\n",
       "    }\n",
       "</style>\n",
       "<table border=\"1\" class=\"dataframe\">\n",
       "  <thead>\n",
       "    <tr style=\"text-align: right;\">\n",
       "      <th></th>\n",
       "      <th>Text</th>\n",
       "      <th>Label</th>\n",
       "    </tr>\n",
       "  </thead>\n",
       "  <tbody>\n",
       "    <tr>\n",
       "      <th>294</th>\n",
       "      <td>We have older cats with one having hyperthyroi...</td>\n",
       "      <td>positive</td>\n",
       "    </tr>\n",
       "    <tr>\n",
       "      <th>376</th>\n",
       "      <td>There is known design flaw having to do with t...</td>\n",
       "      <td>positive</td>\n",
       "    </tr>\n",
       "    <tr>\n",
       "      <th>49</th>\n",
       "      <td>I got a single can of this as a sample from th...</td>\n",
       "      <td>positive</td>\n",
       "    </tr>\n",
       "    <tr>\n",
       "      <th>812</th>\n",
       "      <td>I brewed this coffee with the recommended rati...</td>\n",
       "      <td>neutral</td>\n",
       "    </tr>\n",
       "    <tr>\n",
       "      <th>539</th>\n",
       "      <td>Was shocked at the skinny size of this item!! ...</td>\n",
       "      <td>negative</td>\n",
       "    </tr>\n",
       "  </tbody>\n",
       "</table>\n",
       "</div>"
      ],
      "text/plain": [
       "                                                  Text     Label\n",
       "294  We have older cats with one having hyperthyroi...  positive\n",
       "376  There is known design flaw having to do with t...  positive\n",
       "49   I got a single can of this as a sample from th...  positive\n",
       "812  I brewed this coffee with the recommended rati...   neutral\n",
       "539  Was shocked at the skinny size of this item!! ...  negative"
      ]
     },
     "execution_count": 23,
     "metadata": {},
     "output_type": "execute_result"
    }
   ],
   "source": [
    "train_balanced.sample(5)"
   ]
  },
  {
   "cell_type": "markdown",
   "metadata": {},
   "source": [
    "# Converting back to hugging face format"
   ]
  },
  {
   "cell_type": "code",
   "execution_count": 24,
   "metadata": {
    "execution": {
     "iopub.execute_input": "2025-07-27T20:54:12.323292Z",
     "iopub.status.busy": "2025-07-27T20:54:12.322895Z",
     "iopub.status.idle": "2025-07-27T20:54:12.361112Z",
     "shell.execute_reply": "2025-07-27T20:54:12.360604Z",
     "shell.execute_reply.started": "2025-07-27T20:54:12.323275Z"
    }
   },
   "outputs": [],
   "source": [
    "from datasets import Dataset\n",
    "\n",
    "# Map string labels to integers\n",
    "def map_labels(df):\n",
    "    label2id = {'negative': 0, 'neutral': 1, 'positive': 2}\n",
    "    df = df.copy()\n",
    "    df['label'] = df['Label'].map(label2id)\n",
    "    return df\n",
    "\n",
    "train_balanced_mapped = map_labels(train_balanced)\n",
    "val_new_mapped = map_labels(val_new)\n",
    "df_test_mapped = map_labels(df_test)  # Assuming df_test also has same columns\n",
    "\n",
    "# Convert to Hugging Face datasets\n",
    "train_dataset = Dataset.from_pandas(train_balanced_mapped)\n",
    "val_dataset = Dataset.from_pandas(val_new_mapped)\n",
    "test_dataset = Dataset.from_pandas(df_test_mapped)\n"
   ]
  },
  {
   "cell_type": "code",
   "execution_count": 25,
   "metadata": {
    "execution": {
     "iopub.execute_input": "2025-07-27T20:54:17.090008Z",
     "iopub.status.busy": "2025-07-27T20:54:17.089738Z",
     "iopub.status.idle": "2025-07-27T20:54:17.098722Z",
     "shell.execute_reply": "2025-07-27T20:54:17.097931Z",
     "shell.execute_reply.started": "2025-07-27T20:54:17.089989Z"
    }
   },
   "outputs": [
    {
     "name": "stdout",
     "output_type": "stream",
     "text": [
      "Dataset({\n",
      "    features: ['Text', 'Label', 'label'],\n",
      "    num_rows: 1200\n",
      "})\n",
      "Dataset({\n",
      "    features: ['Text', 'Label', 'label'],\n",
      "    num_rows: 540\n",
      "})\n",
      "Dataset({\n",
      "    features: ['Text', 'Label', 'label'],\n",
      "    num_rows: 301\n",
      "})\n"
     ]
    }
   ],
   "source": [
    "# Columns you want to keep\n",
    "keep_cols = ['Text', 'Label', 'label']\n",
    "\n",
    "# Clean train, val, and test datasets\n",
    "train_dataset = train_dataset.remove_columns([col for col in train_dataset.column_names if col not in keep_cols])\n",
    "val_dataset = val_dataset.remove_columns([col for col in val_dataset.column_names if col not in keep_cols])\n",
    "test_dataset = test_dataset.remove_columns([col for col in test_dataset.column_names if col not in keep_cols])\n",
    "\n",
    "print(train_dataset)\n",
    "print(val_dataset)\n",
    "print(test_dataset)\n"
   ]
  },
  {
   "cell_type": "code",
   "execution_count": 26,
   "metadata": {
    "execution": {
     "iopub.execute_input": "2025-07-27T20:54:17.279685Z",
     "iopub.status.busy": "2025-07-27T20:54:17.279212Z",
     "iopub.status.idle": "2025-07-27T20:54:17.283826Z",
     "shell.execute_reply": "2025-07-27T20:54:17.283084Z",
     "shell.execute_reply.started": "2025-07-27T20:54:17.279664Z"
    }
   },
   "outputs": [
    {
     "name": "stdout",
     "output_type": "stream",
     "text": [
      "DatasetDict({\n",
      "    train: Dataset({\n",
      "        features: ['Text', 'Label', 'label'],\n",
      "        num_rows: 1200\n",
      "    })\n",
      "    validation: Dataset({\n",
      "        features: ['Text', 'Label', 'label'],\n",
      "        num_rows: 540\n",
      "    })\n",
      "    test: Dataset({\n",
      "        features: ['Text', 'Label', 'label'],\n",
      "        num_rows: 301\n",
      "    })\n",
      "})\n"
     ]
    }
   ],
   "source": [
    "from datasets import DatasetDict\n",
    "\n",
    "\n",
    "dataset_dict = DatasetDict({\n",
    "    \"train\": train_dataset,\n",
    "    \"validation\": val_dataset,\n",
    "    \"test\": test_dataset\n",
    "})\n",
    "\n",
    "print(dataset_dict)\n"
   ]
  },
  {
   "cell_type": "code",
   "execution_count": 27,
   "metadata": {
    "execution": {
     "iopub.execute_input": "2025-07-27T20:54:17.422412Z",
     "iopub.status.busy": "2025-07-27T20:54:17.422223Z",
     "iopub.status.idle": "2025-07-27T20:54:17.538910Z",
     "shell.execute_reply": "2025-07-27T20:54:17.538171Z",
     "shell.execute_reply.started": "2025-07-27T20:54:17.422398Z"
    }
   },
   "outputs": [
    {
     "data": {
      "application/vnd.jupyter.widget-view+json": {
       "model_id": "04dbe4101afd47b5befbcf43baa37414",
       "version_major": 2,
       "version_minor": 0
      },
      "text/plain": [
       "Map:   0%|          | 0/1200 [00:00<?, ? examples/s]"
      ]
     },
     "metadata": {},
     "output_type": "display_data"
    },
    {
     "data": {
      "application/vnd.jupyter.widget-view+json": {
       "model_id": "09abc5059cd6497dadea10d6c0ea4582",
       "version_major": 2,
       "version_minor": 0
      },
      "text/plain": [
       "Map:   0%|          | 0/540 [00:00<?, ? examples/s]"
      ]
     },
     "metadata": {},
     "output_type": "display_data"
    },
    {
     "data": {
      "application/vnd.jupyter.widget-view+json": {
       "model_id": "ffc4dc000de04f6081a8707ab02f39b0",
       "version_major": 2,
       "version_minor": 0
      },
      "text/plain": [
       "Map:   0%|          | 0/301 [00:00<?, ? examples/s]"
      ]
     },
     "metadata": {},
     "output_type": "display_data"
    },
    {
     "name": "stdout",
     "output_type": "stream",
     "text": [
      "DatasetDict({\n",
      "    train: Dataset({\n",
      "        features: ['Text', 'label'],\n",
      "        num_rows: 1200\n",
      "    })\n",
      "    validation: Dataset({\n",
      "        features: ['Text', 'label'],\n",
      "        num_rows: 540\n",
      "    })\n",
      "    test: Dataset({\n",
      "        features: ['Text', 'label'],\n",
      "        num_rows: 301\n",
      "    })\n",
      "})\n"
     ]
    }
   ],
   "source": [
    "\n",
    "dataset_dict = dataset_dict.map(lambda x: x, remove_columns=[\"Label\"])\n",
    "\n",
    "# Check features after removal\n",
    "print(dataset_dict)\n"
   ]
  },
  {
   "cell_type": "markdown",
   "metadata": {},
   "source": [
    "# Preprocessing"
   ]
  },
  {
   "cell_type": "code",
   "execution_count": 28,
   "metadata": {
    "execution": {
     "iopub.execute_input": "2025-07-27T20:54:17.758125Z",
     "iopub.status.busy": "2025-07-27T20:54:17.757489Z",
     "iopub.status.idle": "2025-07-27T20:54:18.862919Z",
     "shell.execute_reply": "2025-07-27T20:54:18.862310Z",
     "shell.execute_reply.started": "2025-07-27T20:54:17.758100Z"
    }
   },
   "outputs": [
    {
     "data": {
      "application/vnd.jupyter.widget-view+json": {
       "model_id": "8bf05cf058e641258e7038b4c865a030",
       "version_major": 2,
       "version_minor": 0
      },
      "text/plain": [
       "vocab.json: 0.00B [00:00, ?B/s]"
      ]
     },
     "metadata": {},
     "output_type": "display_data"
    },
    {
     "data": {
      "application/vnd.jupyter.widget-view+json": {
       "model_id": "4b5d5b4307114862acaada59b6cf94a9",
       "version_major": 2,
       "version_minor": 0
      },
      "text/plain": [
       "merges.txt: 0.00B [00:00, ?B/s]"
      ]
     },
     "metadata": {},
     "output_type": "display_data"
    },
    {
     "data": {
      "application/vnd.jupyter.widget-view+json": {
       "model_id": "7252fac080354f42840ee5df1adff117",
       "version_major": 2,
       "version_minor": 0
      },
      "text/plain": [
       "special_tokens_map.json:   0%|          | 0.00/239 [00:00<?, ?B/s]"
      ]
     },
     "metadata": {},
     "output_type": "display_data"
    }
   ],
   "source": [
    "from transformers import AutoTokenizer\n",
    "\n",
    "# Load the tokenizer\n",
    "tokenizer = AutoTokenizer.from_pretrained(\"cardiffnlp/twitter-roberta-base-sentiment-latest\")"
   ]
  },
  {
   "cell_type": "code",
   "execution_count": 29,
   "metadata": {
    "execution": {
     "iopub.execute_input": "2025-07-27T20:54:18.864763Z",
     "iopub.status.busy": "2025-07-27T20:54:18.864059Z",
     "iopub.status.idle": "2025-07-27T20:54:19.822600Z",
     "shell.execute_reply": "2025-07-27T20:54:19.822030Z",
     "shell.execute_reply.started": "2025-07-27T20:54:18.864737Z"
    }
   },
   "outputs": [
    {
     "data": {
      "application/vnd.jupyter.widget-view+json": {
       "model_id": "66ccd26495184918984ac5ac7f4815df",
       "version_major": 2,
       "version_minor": 0
      },
      "text/plain": [
       "Map:   0%|          | 0/1200 [00:00<?, ? examples/s]"
      ]
     },
     "metadata": {},
     "output_type": "display_data"
    },
    {
     "data": {
      "application/vnd.jupyter.widget-view+json": {
       "model_id": "82bd6d167f5c426c82d083c41b8cc73b",
       "version_major": 2,
       "version_minor": 0
      },
      "text/plain": [
       "Map:   0%|          | 0/540 [00:00<?, ? examples/s]"
      ]
     },
     "metadata": {},
     "output_type": "display_data"
    },
    {
     "data": {
      "application/vnd.jupyter.widget-view+json": {
       "model_id": "65bdb37d14b24cf08b66b4a1109ae3c9",
       "version_major": 2,
       "version_minor": 0
      },
      "text/plain": [
       "Map:   0%|          | 0/301 [00:00<?, ? examples/s]"
      ]
     },
     "metadata": {},
     "output_type": "display_data"
    }
   ],
   "source": [
    "# Define a tokenization function\n",
    "def preprocess_function(examples):\n",
    "    # Tokenize the text column, truncating/padding as needed\n",
    "    return tokenizer(examples[\"Text\"], truncation=True, padding=\"max_length\", max_length=128)\n",
    "\n",
    "# Apply tokenization to each split using map()\n",
    "dataset_dict = dataset_dict.map(preprocess_function, batched=True)\n"
   ]
  },
  {
   "cell_type": "code",
   "execution_count": 30,
   "metadata": {
    "execution": {
     "iopub.execute_input": "2025-07-27T20:54:21.400698Z",
     "iopub.status.busy": "2025-07-27T20:54:21.400139Z",
     "iopub.status.idle": "2025-07-27T20:54:21.405636Z",
     "shell.execute_reply": "2025-07-27T20:54:21.405076Z",
     "shell.execute_reply.started": "2025-07-27T20:54:21.400673Z"
    }
   },
   "outputs": [],
   "source": [
    "# Optional: set the format to pytorch tensors if you want to use Trainer directly\n",
    "dataset_dict.set_format(type=\"torch\", columns=[\"input_ids\", \"attention_mask\", \"label\"])"
   ]
  },
  {
   "cell_type": "code",
   "execution_count": 31,
   "metadata": {
    "execution": {
     "iopub.execute_input": "2025-07-27T20:54:21.676588Z",
     "iopub.status.busy": "2025-07-27T20:54:21.676015Z",
     "iopub.status.idle": "2025-07-27T20:54:21.680447Z",
     "shell.execute_reply": "2025-07-27T20:54:21.679944Z",
     "shell.execute_reply.started": "2025-07-27T20:54:21.676569Z"
    }
   },
   "outputs": [
    {
     "data": {
      "text/plain": [
       "DatasetDict({\n",
       "    train: Dataset({\n",
       "        features: ['Text', 'label', 'input_ids', 'attention_mask'],\n",
       "        num_rows: 1200\n",
       "    })\n",
       "    validation: Dataset({\n",
       "        features: ['Text', 'label', 'input_ids', 'attention_mask'],\n",
       "        num_rows: 540\n",
       "    })\n",
       "    test: Dataset({\n",
       "        features: ['Text', 'label', 'input_ids', 'attention_mask'],\n",
       "        num_rows: 301\n",
       "    })\n",
       "})"
      ]
     },
     "execution_count": 31,
     "metadata": {},
     "output_type": "execute_result"
    }
   ],
   "source": [
    "dataset_dict"
   ]
  },
  {
   "cell_type": "code",
   "execution_count": 32,
   "metadata": {
    "execution": {
     "iopub.execute_input": "2025-07-27T20:54:21.840730Z",
     "iopub.status.busy": "2025-07-27T20:54:21.840488Z",
     "iopub.status.idle": "2025-07-27T20:54:21.847998Z",
     "shell.execute_reply": "2025-07-27T20:54:21.847478Z",
     "shell.execute_reply.started": "2025-07-27T20:54:21.840713Z"
    }
   },
   "outputs": [],
   "source": [
    "dataset_dict[\"train\"] = dataset_dict[\"train\"].remove_columns([\"Text\"])\n",
    "dataset_dict[\"validation\"] = dataset_dict[\"validation\"].remove_columns([\"Text\"])\n",
    "dataset_dict[\"test\"] = dataset_dict[\"test\"].remove_columns([\"Text\"])\n"
   ]
  },
  {
   "cell_type": "code",
   "execution_count": 33,
   "metadata": {
    "execution": {
     "iopub.execute_input": "2025-07-27T20:54:23.221325Z",
     "iopub.status.busy": "2025-07-27T20:54:23.220627Z",
     "iopub.status.idle": "2025-07-27T20:54:23.225890Z",
     "shell.execute_reply": "2025-07-27T20:54:23.225133Z",
     "shell.execute_reply.started": "2025-07-27T20:54:23.221296Z"
    }
   },
   "outputs": [
    {
     "data": {
      "text/plain": [
       "DatasetDict({\n",
       "    train: Dataset({\n",
       "        features: ['label', 'input_ids', 'attention_mask'],\n",
       "        num_rows: 1200\n",
       "    })\n",
       "    validation: Dataset({\n",
       "        features: ['label', 'input_ids', 'attention_mask'],\n",
       "        num_rows: 540\n",
       "    })\n",
       "    test: Dataset({\n",
       "        features: ['label', 'input_ids', 'attention_mask'],\n",
       "        num_rows: 301\n",
       "    })\n",
       "})"
      ]
     },
     "execution_count": 33,
     "metadata": {},
     "output_type": "execute_result"
    }
   ],
   "source": [
    "dataset_dict"
   ]
  },
  {
   "cell_type": "code",
   "execution_count": 34,
   "metadata": {
    "execution": {
     "iopub.execute_input": "2025-07-27T20:54:24.713473Z",
     "iopub.status.busy": "2025-07-27T20:54:24.713209Z",
     "iopub.status.idle": "2025-07-27T20:54:24.782410Z",
     "shell.execute_reply": "2025-07-27T20:54:24.781676Z",
     "shell.execute_reply.started": "2025-07-27T20:54:24.713454Z"
    }
   },
   "outputs": [
    {
     "name": "stdout",
     "output_type": "stream",
     "text": [
      "['input_ids', 'attention_mask', 'label']\n"
     ]
    }
   ],
   "source": [
    "def reorder_columns(ds, order):\n",
    "    data = {k: ds[k] for k in order}\n",
    "    return ds.from_dict(data)\n",
    "\n",
    "new_order = [\"input_ids\", \"attention_mask\", \"label\"]\n",
    "\n",
    "dataset_dict[\"train\"] = reorder_columns(dataset_dict[\"train\"], new_order)\n",
    "dataset_dict[\"validation\"] = reorder_columns(dataset_dict[\"validation\"], new_order)\n",
    "dataset_dict[\"test\"] = reorder_columns(dataset_dict[\"test\"], new_order)\n",
    "\n",
    "print(dataset_dict[\"train\"].column_names)\n"
   ]
  },
  {
   "cell_type": "code",
   "execution_count": 35,
   "metadata": {
    "execution": {
     "iopub.execute_input": "2025-07-27T20:54:25.217216Z",
     "iopub.status.busy": "2025-07-27T20:54:25.216988Z",
     "iopub.status.idle": "2025-07-27T20:54:25.222307Z",
     "shell.execute_reply": "2025-07-27T20:54:25.221565Z",
     "shell.execute_reply.started": "2025-07-27T20:54:25.217201Z"
    }
   },
   "outputs": [
    {
     "data": {
      "text/plain": [
       "DatasetDict({\n",
       "    train: Dataset({\n",
       "        features: ['input_ids', 'attention_mask', 'label'],\n",
       "        num_rows: 1200\n",
       "    })\n",
       "    validation: Dataset({\n",
       "        features: ['input_ids', 'attention_mask', 'label'],\n",
       "        num_rows: 540\n",
       "    })\n",
       "    test: Dataset({\n",
       "        features: ['input_ids', 'attention_mask', 'label'],\n",
       "        num_rows: 301\n",
       "    })\n",
       "})"
      ]
     },
     "execution_count": 35,
     "metadata": {},
     "output_type": "execute_result"
    }
   ],
   "source": [
    "dataset_dict"
   ]
  },
  {
   "cell_type": "code",
   "execution_count": 36,
   "metadata": {
    "execution": {
     "iopub.execute_input": "2025-07-27T20:54:26.967921Z",
     "iopub.status.busy": "2025-07-27T20:54:26.967144Z",
     "iopub.status.idle": "2025-07-27T20:54:26.971487Z",
     "shell.execute_reply": "2025-07-27T20:54:26.970762Z",
     "shell.execute_reply.started": "2025-07-27T20:54:26.967890Z"
    }
   },
   "outputs": [],
   "source": [
    "from transformers import DataCollatorWithPadding\n",
    "data_collator = DataCollatorWithPadding(tokenizer=tokenizer)"
   ]
  },
  {
   "cell_type": "markdown",
   "metadata": {},
   "source": [
    "# Model building"
   ]
  },
  {
   "cell_type": "code",
   "execution_count": 37,
   "metadata": {
    "execution": {
     "iopub.execute_input": "2025-07-27T20:54:29.243777Z",
     "iopub.status.busy": "2025-07-27T20:54:29.243266Z",
     "iopub.status.idle": "2025-07-27T20:54:29.857602Z",
     "shell.execute_reply": "2025-07-27T20:54:29.857063Z",
     "shell.execute_reply.started": "2025-07-27T20:54:29.243755Z"
    }
   },
   "outputs": [
    {
     "name": "stderr",
     "output_type": "stream",
     "text": [
      "Some weights of the model checkpoint at cardiffnlp/twitter-roberta-base-sentiment-latest were not used when initializing RobertaForSequenceClassification: ['roberta.pooler.dense.bias', 'roberta.pooler.dense.weight']\n",
      "- This IS expected if you are initializing RobertaForSequenceClassification from the checkpoint of a model trained on another task or with another architecture (e.g. initializing a BertForSequenceClassification model from a BertForPreTraining model).\n",
      "- This IS NOT expected if you are initializing RobertaForSequenceClassification from the checkpoint of a model that you expect to be exactly identical (initializing a BertForSequenceClassification model from a BertForSequenceClassification model).\n"
     ]
    }
   ],
   "source": [
    "from transformers import AutoModelForSequenceClassification\n",
    "\n",
    "model = AutoModelForSequenceClassification.from_pretrained(\n",
    "    'cardiffnlp/twitter-roberta-base-sentiment-latest',\n",
    "    num_labels=3\n",
    ")"
   ]
  },
  {
   "cell_type": "code",
   "execution_count": 38,
   "metadata": {
    "execution": {
     "iopub.execute_input": "2025-07-27T20:54:32.276652Z",
     "iopub.status.busy": "2025-07-27T20:54:32.276040Z",
     "iopub.status.idle": "2025-07-27T20:54:32.332797Z",
     "shell.execute_reply": "2025-07-27T20:54:32.332000Z",
     "shell.execute_reply.started": "2025-07-27T20:54:32.276627Z"
    }
   },
   "outputs": [],
   "source": [
    "from transformers import TrainingArguments\n",
    "\n",
    "training_args = TrainingArguments(\"/kaggle/working/\")   #chaning working directory as per need\n",
    "\n",
    "training_args = TrainingArguments(\n",
    "    output_dir=\"/kaggle/working/\",\n",
    "    report_to=\"none\",  \n",
    "    logging_dir=\"/kaggle/working/logs\",       \n",
    "    save_strategy=\"epoch\",               \n",
    "    per_device_train_batch_size=16,\n",
    "    per_device_eval_batch_size=16,\n",
    "    num_train_epochs=3,\n",
    "    weight_decay=0.01,\n",
    ")"
   ]
  },
  {
   "cell_type": "code",
   "execution_count": 41,
   "metadata": {
    "execution": {
     "iopub.execute_input": "2025-07-27T20:55:22.648669Z",
     "iopub.status.busy": "2025-07-27T20:55:22.648102Z",
     "iopub.status.idle": "2025-07-27T20:55:22.659350Z",
     "shell.execute_reply": "2025-07-27T20:55:22.658665Z",
     "shell.execute_reply.started": "2025-07-27T20:55:22.648648Z"
    }
   },
   "outputs": [],
   "source": [
    "from transformers import Trainer\n",
    "\n",
    "trainer = Trainer(\n",
    "    model=model,\n",
    "    args=training_args,\n",
    "    train_dataset=dataset_dict[\"train\"],\n",
    "    eval_dataset=dataset_dict[\"validation\"],\n",
    "    processing_class=tokenizer,\n",
    "    data_collator=data_collator\n",
    ")"
   ]
  },
  {
   "cell_type": "code",
   "execution_count": 42,
   "metadata": {
    "execution": {
     "iopub.execute_input": "2025-07-27T20:55:30.147274Z",
     "iopub.status.busy": "2025-07-27T20:55:30.147003Z",
     "iopub.status.idle": "2025-07-27T20:56:25.935574Z",
     "shell.execute_reply": "2025-07-27T20:56:25.934801Z",
     "shell.execute_reply.started": "2025-07-27T20:55:30.147253Z"
    }
   },
   "outputs": [
    {
     "data": {
      "text/html": [
       "\n",
       "    <div>\n",
       "      \n",
       "      <progress value='225' max='225' style='width:300px; height:20px; vertical-align: middle;'></progress>\n",
       "      [225/225 00:54, Epoch 3/3]\n",
       "    </div>\n",
       "    <table border=\"1\" class=\"dataframe\">\n",
       "  <thead>\n",
       " <tr style=\"text-align: left;\">\n",
       "      <th>Step</th>\n",
       "      <th>Training Loss</th>\n",
       "    </tr>\n",
       "  </thead>\n",
       "  <tbody>\n",
       "  </tbody>\n",
       "</table><p>"
      ],
      "text/plain": [
       "<IPython.core.display.HTML object>"
      ]
     },
     "metadata": {},
     "output_type": "display_data"
    },
    {
     "data": {
      "text/plain": [
       "TrainOutput(global_step=225, training_loss=0.577191162109375, metrics={'train_runtime': 55.3523, 'train_samples_per_second': 65.038, 'train_steps_per_second': 4.065, 'total_flos': 236802075955200.0, 'train_loss': 0.577191162109375, 'epoch': 3.0})"
      ]
     },
     "execution_count": 42,
     "metadata": {},
     "output_type": "execute_result"
    }
   ],
   "source": [
    "trainer.train()"
   ]
  },
  {
   "cell_type": "markdown",
   "metadata": {},
   "source": [
    "# Inference"
   ]
  },
  {
   "cell_type": "code",
   "execution_count": 67,
   "metadata": {
    "execution": {
     "iopub.execute_input": "2025-07-27T21:06:36.166946Z",
     "iopub.status.busy": "2025-07-27T21:06:36.166130Z",
     "iopub.status.idle": "2025-07-27T21:06:38.079879Z",
     "shell.execute_reply": "2025-07-27T21:06:38.079315Z",
     "shell.execute_reply.started": "2025-07-27T21:06:36.166917Z"
    }
   },
   "outputs": [
    {
     "data": {
      "text/html": [],
      "text/plain": [
       "<IPython.core.display.HTML object>"
      ]
     },
     "metadata": {},
     "output_type": "display_data"
    },
    {
     "name": "stdout",
     "output_type": "stream",
     "text": [
      "(540, 3) (540,)\n"
     ]
    }
   ],
   "source": [
    "predictions = trainer.predict(dataset_dict[\"validation\"])\n",
    "print(predictions.predictions.shape, predictions.label_ids.shape)\n",
    "\n",
    "#predictions = trainer.predict(dataset_dict[\"test\"])\n",
    "#print(predictions.predictions.shape, predictions.label_ids.shape)"
   ]
  },
  {
   "cell_type": "code",
   "execution_count": 68,
   "metadata": {
    "execution": {
     "iopub.execute_input": "2025-07-27T21:06:40.301696Z",
     "iopub.status.busy": "2025-07-27T21:06:40.301419Z",
     "iopub.status.idle": "2025-07-27T21:06:40.305445Z",
     "shell.execute_reply": "2025-07-27T21:06:40.304893Z",
     "shell.execute_reply.started": "2025-07-27T21:06:40.301677Z"
    }
   },
   "outputs": [],
   "source": [
    "preds = np.argmax(predictions.predictions, axis=-1)\n",
    "labels = predictions.label_ids"
   ]
  },
  {
   "cell_type": "code",
   "execution_count": 49,
   "metadata": {
    "execution": {
     "iopub.execute_input": "2025-07-27T20:59:27.393865Z",
     "iopub.status.busy": "2025-07-27T20:59:27.393594Z",
     "iopub.status.idle": "2025-07-27T20:59:32.005607Z",
     "shell.execute_reply": "2025-07-27T20:59:32.004880Z",
     "shell.execute_reply.started": "2025-07-27T20:59:27.393845Z"
    }
   },
   "outputs": [
    {
     "name": "stderr",
     "output_type": "stream",
     "text": [
      "huggingface/tokenizers: The current process just got forked, after parallelism has already been used. Disabling parallelism to avoid deadlocks...\n",
      "To disable this warning, you can either:\n",
      "\t- Avoid using `tokenizers` before the fork if possible\n",
      "\t- Explicitly set the environment variable TOKENIZERS_PARALLELISM=(true | false)\n"
     ]
    },
    {
     "name": "stdout",
     "output_type": "stream",
     "text": [
      "Collecting evaluate\n",
      "  Downloading evaluate-0.4.5-py3-none-any.whl.metadata (9.5 kB)\n",
      "Requirement already satisfied: datasets>=2.0.0 in /usr/local/lib/python3.11/dist-packages (from evaluate) (3.6.0)\n",
      "Requirement already satisfied: numpy>=1.17 in /usr/local/lib/python3.11/dist-packages (from evaluate) (1.26.4)\n",
      "Requirement already satisfied: dill in /usr/local/lib/python3.11/dist-packages (from evaluate) (0.3.8)\n",
      "Requirement already satisfied: pandas in /usr/local/lib/python3.11/dist-packages (from evaluate) (2.2.3)\n",
      "Requirement already satisfied: requests>=2.19.0 in /usr/local/lib/python3.11/dist-packages (from evaluate) (2.32.4)\n",
      "Requirement already satisfied: tqdm>=4.62.1 in /usr/local/lib/python3.11/dist-packages (from evaluate) (4.67.1)\n",
      "Requirement already satisfied: xxhash in /usr/local/lib/python3.11/dist-packages (from evaluate) (3.5.0)\n",
      "Requirement already satisfied: multiprocess in /usr/local/lib/python3.11/dist-packages (from evaluate) (0.70.16)\n",
      "Requirement already satisfied: fsspec>=2021.05.0 in /usr/local/lib/python3.11/dist-packages (from fsspec[http]>=2021.05.0->evaluate) (2025.5.1)\n",
      "Requirement already satisfied: huggingface-hub>=0.7.0 in /usr/local/lib/python3.11/dist-packages (from evaluate) (0.33.1)\n",
      "Requirement already satisfied: packaging in /usr/local/lib/python3.11/dist-packages (from evaluate) (25.0)\n",
      "Requirement already satisfied: filelock in /usr/local/lib/python3.11/dist-packages (from datasets>=2.0.0->evaluate) (3.18.0)\n",
      "Requirement already satisfied: pyarrow>=15.0.0 in /usr/local/lib/python3.11/dist-packages (from datasets>=2.0.0->evaluate) (19.0.1)\n",
      "Collecting fsspec>=2021.05.0 (from fsspec[http]>=2021.05.0->evaluate)\n",
      "  Downloading fsspec-2025.3.0-py3-none-any.whl.metadata (11 kB)\n",
      "Requirement already satisfied: pyyaml>=5.1 in /usr/local/lib/python3.11/dist-packages (from datasets>=2.0.0->evaluate) (6.0.2)\n",
      "Requirement already satisfied: aiohttp!=4.0.0a0,!=4.0.0a1 in /usr/local/lib/python3.11/dist-packages (from fsspec[http]>=2021.05.0->evaluate) (3.12.13)\n",
      "Requirement already satisfied: typing-extensions>=3.7.4.3 in /usr/local/lib/python3.11/dist-packages (from huggingface-hub>=0.7.0->evaluate) (4.14.0)\n",
      "Requirement already satisfied: hf-xet<2.0.0,>=1.1.2 in /usr/local/lib/python3.11/dist-packages (from huggingface-hub>=0.7.0->evaluate) (1.1.5)\n",
      "Requirement already satisfied: mkl_fft in /usr/local/lib/python3.11/dist-packages (from numpy>=1.17->evaluate) (1.3.8)\n",
      "Requirement already satisfied: mkl_random in /usr/local/lib/python3.11/dist-packages (from numpy>=1.17->evaluate) (1.2.4)\n",
      "Requirement already satisfied: mkl_umath in /usr/local/lib/python3.11/dist-packages (from numpy>=1.17->evaluate) (0.1.1)\n",
      "Requirement already satisfied: mkl in /usr/local/lib/python3.11/dist-packages (from numpy>=1.17->evaluate) (2025.2.0)\n",
      "Requirement already satisfied: tbb4py in /usr/local/lib/python3.11/dist-packages (from numpy>=1.17->evaluate) (2022.2.0)\n",
      "Requirement already satisfied: mkl-service in /usr/local/lib/python3.11/dist-packages (from numpy>=1.17->evaluate) (2.4.1)\n",
      "Requirement already satisfied: charset_normalizer<4,>=2 in /usr/local/lib/python3.11/dist-packages (from requests>=2.19.0->evaluate) (3.4.2)\n",
      "Requirement already satisfied: idna<4,>=2.5 in /usr/local/lib/python3.11/dist-packages (from requests>=2.19.0->evaluate) (3.10)\n",
      "Requirement already satisfied: urllib3<3,>=1.21.1 in /usr/local/lib/python3.11/dist-packages (from requests>=2.19.0->evaluate) (2.5.0)\n",
      "Requirement already satisfied: certifi>=2017.4.17 in /usr/local/lib/python3.11/dist-packages (from requests>=2.19.0->evaluate) (2025.6.15)\n",
      "Requirement already satisfied: python-dateutil>=2.8.2 in /usr/local/lib/python3.11/dist-packages (from pandas->evaluate) (2.9.0.post0)\n",
      "Requirement already satisfied: pytz>=2020.1 in /usr/local/lib/python3.11/dist-packages (from pandas->evaluate) (2025.2)\n",
      "Requirement already satisfied: tzdata>=2022.7 in /usr/local/lib/python3.11/dist-packages (from pandas->evaluate) (2025.2)\n",
      "Requirement already satisfied: aiohappyeyeballs>=2.5.0 in /usr/local/lib/python3.11/dist-packages (from aiohttp!=4.0.0a0,!=4.0.0a1->fsspec[http]>=2021.05.0->evaluate) (2.6.1)\n",
      "Requirement already satisfied: aiosignal>=1.1.2 in /usr/local/lib/python3.11/dist-packages (from aiohttp!=4.0.0a0,!=4.0.0a1->fsspec[http]>=2021.05.0->evaluate) (1.3.2)\n",
      "Requirement already satisfied: attrs>=17.3.0 in /usr/local/lib/python3.11/dist-packages (from aiohttp!=4.0.0a0,!=4.0.0a1->fsspec[http]>=2021.05.0->evaluate) (25.3.0)\n",
      "Requirement already satisfied: frozenlist>=1.1.1 in /usr/local/lib/python3.11/dist-packages (from aiohttp!=4.0.0a0,!=4.0.0a1->fsspec[http]>=2021.05.0->evaluate) (1.7.0)\n",
      "Requirement already satisfied: multidict<7.0,>=4.5 in /usr/local/lib/python3.11/dist-packages (from aiohttp!=4.0.0a0,!=4.0.0a1->fsspec[http]>=2021.05.0->evaluate) (6.6.3)\n",
      "Requirement already satisfied: propcache>=0.2.0 in /usr/local/lib/python3.11/dist-packages (from aiohttp!=4.0.0a0,!=4.0.0a1->fsspec[http]>=2021.05.0->evaluate) (0.3.2)\n",
      "Requirement already satisfied: yarl<2.0,>=1.17.0 in /usr/local/lib/python3.11/dist-packages (from aiohttp!=4.0.0a0,!=4.0.0a1->fsspec[http]>=2021.05.0->evaluate) (1.20.1)\n",
      "Requirement already satisfied: six>=1.5 in /usr/local/lib/python3.11/dist-packages (from python-dateutil>=2.8.2->pandas->evaluate) (1.17.0)\n",
      "Requirement already satisfied: intel-openmp<2026,>=2024 in /usr/local/lib/python3.11/dist-packages (from mkl->numpy>=1.17->evaluate) (2024.2.0)\n",
      "Requirement already satisfied: tbb==2022.* in /usr/local/lib/python3.11/dist-packages (from mkl->numpy>=1.17->evaluate) (2022.2.0)\n",
      "Requirement already satisfied: tcmlib==1.* in /usr/local/lib/python3.11/dist-packages (from tbb==2022.*->mkl->numpy>=1.17->evaluate) (1.4.0)\n",
      "Requirement already satisfied: intel-cmplr-lib-rt in /usr/local/lib/python3.11/dist-packages (from mkl_umath->numpy>=1.17->evaluate) (2024.2.0)\n",
      "Requirement already satisfied: intel-cmplr-lib-ur==2024.2.0 in /usr/local/lib/python3.11/dist-packages (from intel-openmp<2026,>=2024->mkl->numpy>=1.17->evaluate) (2024.2.0)\n",
      "Downloading evaluate-0.4.5-py3-none-any.whl (84 kB)\n",
      "\u001b[2K   \u001b[90m━━━━━━━━━━━━━━━━━━━━━━━━━━━━━━━━━━━━━━━━\u001b[0m \u001b[32m84.1/84.1 kB\u001b[0m \u001b[31m3.8 MB/s\u001b[0m eta \u001b[36m0:00:00\u001b[0m\n",
      "\u001b[?25hDownloading fsspec-2025.3.0-py3-none-any.whl (193 kB)\n",
      "\u001b[2K   \u001b[90m━━━━━━━━━━━━━━━━━━━━━━━━━━━━━━━━━━━━━━━━\u001b[0m \u001b[32m193.6/193.6 kB\u001b[0m \u001b[31m8.9 MB/s\u001b[0m eta \u001b[36m0:00:00\u001b[0m\n",
      "\u001b[?25hInstalling collected packages: fsspec, evaluate\n",
      "  Attempting uninstall: fsspec\n",
      "    Found existing installation: fsspec 2025.5.1\n",
      "    Uninstalling fsspec-2025.5.1:\n",
      "      Successfully uninstalled fsspec-2025.5.1\n",
      "\u001b[31mERROR: pip's dependency resolver does not currently take into account all the packages that are installed. This behaviour is the source of the following dependency conflicts.\n",
      "bigframes 2.8.0 requires google-cloud-bigquery-storage<3.0.0,>=2.30.0, which is not installed.\n",
      "cesium 0.12.4 requires numpy<3.0,>=2.0, but you have numpy 1.26.4 which is incompatible.\n",
      "torch 2.6.0+cu124 requires nvidia-cublas-cu12==12.4.5.8; platform_system == \"Linux\" and platform_machine == \"x86_64\", but you have nvidia-cublas-cu12 12.5.3.2 which is incompatible.\n",
      "torch 2.6.0+cu124 requires nvidia-cuda-cupti-cu12==12.4.127; platform_system == \"Linux\" and platform_machine == \"x86_64\", but you have nvidia-cuda-cupti-cu12 12.5.82 which is incompatible.\n",
      "torch 2.6.0+cu124 requires nvidia-cuda-nvrtc-cu12==12.4.127; platform_system == \"Linux\" and platform_machine == \"x86_64\", but you have nvidia-cuda-nvrtc-cu12 12.5.82 which is incompatible.\n",
      "torch 2.6.0+cu124 requires nvidia-cuda-runtime-cu12==12.4.127; platform_system == \"Linux\" and platform_machine == \"x86_64\", but you have nvidia-cuda-runtime-cu12 12.5.82 which is incompatible.\n",
      "torch 2.6.0+cu124 requires nvidia-cudnn-cu12==9.1.0.70; platform_system == \"Linux\" and platform_machine == \"x86_64\", but you have nvidia-cudnn-cu12 9.3.0.75 which is incompatible.\n",
      "torch 2.6.0+cu124 requires nvidia-cufft-cu12==11.2.1.3; platform_system == \"Linux\" and platform_machine == \"x86_64\", but you have nvidia-cufft-cu12 11.2.3.61 which is incompatible.\n",
      "torch 2.6.0+cu124 requires nvidia-curand-cu12==10.3.5.147; platform_system == \"Linux\" and platform_machine == \"x86_64\", but you have nvidia-curand-cu12 10.3.6.82 which is incompatible.\n",
      "torch 2.6.0+cu124 requires nvidia-cusolver-cu12==11.6.1.9; platform_system == \"Linux\" and platform_machine == \"x86_64\", but you have nvidia-cusolver-cu12 11.6.3.83 which is incompatible.\n",
      "torch 2.6.0+cu124 requires nvidia-cusparse-cu12==12.3.1.170; platform_system == \"Linux\" and platform_machine == \"x86_64\", but you have nvidia-cusparse-cu12 12.5.1.3 which is incompatible.\n",
      "torch 2.6.0+cu124 requires nvidia-nvjitlink-cu12==12.4.127; platform_system == \"Linux\" and platform_machine == \"x86_64\", but you have nvidia-nvjitlink-cu12 12.5.82 which is incompatible.\n",
      "gcsfs 2025.3.2 requires fsspec==2025.3.2, but you have fsspec 2025.3.0 which is incompatible.\n",
      "bigframes 2.8.0 requires google-cloud-bigquery[bqstorage,pandas]>=3.31.0, but you have google-cloud-bigquery 3.25.0 which is incompatible.\n",
      "bigframes 2.8.0 requires rich<14,>=12.4.4, but you have rich 14.0.0 which is incompatible.\u001b[0m\u001b[31m\n",
      "\u001b[0mSuccessfully installed evaluate-0.4.5 fsspec-2025.3.0\n"
     ]
    }
   ],
   "source": [
    "!pip install evaluate"
   ]
  },
  {
   "cell_type": "markdown",
   "metadata": {},
   "source": [
    "# Evaluation"
   ]
  },
  {
   "cell_type": "code",
   "execution_count": 70,
   "metadata": {
    "execution": {
     "iopub.execute_input": "2025-07-27T21:07:44.340240Z",
     "iopub.status.busy": "2025-07-27T21:07:44.339512Z",
     "iopub.status.idle": "2025-07-27T21:07:45.342767Z",
     "shell.execute_reply": "2025-07-27T21:07:45.342125Z",
     "shell.execute_reply.started": "2025-07-27T21:07:44.340215Z"
    }
   },
   "outputs": [
    {
     "name": "stdout",
     "output_type": "stream",
     "text": [
      "Accuracy: {'accuracy': 0.7407407407407407}\n",
      "F1 Score: {'f1': 0.7604697532214547}\n"
     ]
    }
   ],
   "source": [
    "import evaluate\n",
    "\n",
    "# Load all required metrics\n",
    "accuracy = evaluate.load(\"accuracy\")\n",
    "f1 = evaluate.load(\"f1\")\n",
    "#precision = evaluate.load(\"precision\")\n",
    "#recall = evaluate.load(\"recall\")\n",
    "\n",
    "# Compute predictions and labels\n",
    "acc_score = accuracy.compute(predictions=preds, references=labels)\n",
    "f1_score = f1.compute(predictions=preds, references=labels, average=\"weighted\")\n",
    "#precision_score = precision.compute(predictions=preds, references=labels, average=\"weighted\")\n",
    "#recall_score = recall.compute(predictions=preds, references=labels, average=\"weighted\")\n",
    "\n",
    "# Print results\n",
    "print(\"Accuracy:\", acc_score)\n",
    "print(\"F1 Score:\", f1_score)\n",
    "#print(\"Precision:\", precision_score)\n",
    "#print(\"Recall:\", recall_score)\n"
   ]
  },
  {
   "cell_type": "code",
   "execution_count": 71,
   "metadata": {
    "execution": {
     "iopub.execute_input": "2025-07-27T21:09:54.631814Z",
     "iopub.status.busy": "2025-07-27T21:09:54.631516Z",
     "iopub.status.idle": "2025-07-27T21:09:55.721499Z",
     "shell.execute_reply": "2025-07-27T21:09:55.720754Z",
     "shell.execute_reply.started": "2025-07-27T21:09:54.631795Z"
    }
   },
   "outputs": [
    {
     "data": {
      "text/plain": [
       "('/kaggle/working/final_sentiment_tokenizer/tokenizer_config.json',\n",
       " '/kaggle/working/final_sentiment_tokenizer/special_tokens_map.json',\n",
       " '/kaggle/working/final_sentiment_tokenizer/vocab.json',\n",
       " '/kaggle/working/final_sentiment_tokenizer/merges.txt',\n",
       " '/kaggle/working/final_sentiment_tokenizer/added_tokens.json',\n",
       " '/kaggle/working/final_sentiment_tokenizer/tokenizer.json')"
      ]
     },
     "execution_count": 71,
     "metadata": {},
     "output_type": "execute_result"
    }
   ],
   "source": [
    "#Save the model\n",
    "model.save_pretrained(\"/kaggle/working/final_sentiment_model\")\n",
    "tokenizer.save_pretrained(\"/kaggle/working/final_sentiment_tokenizer\")"
   ]
  },
  {
   "cell_type": "markdown",
   "metadata": {
    "execution": {
     "iopub.execute_input": "2025-07-27T21:11:09.359103Z",
     "iopub.status.busy": "2025-07-27T21:11:09.358511Z",
     "iopub.status.idle": "2025-07-27T21:11:09.362318Z",
     "shell.execute_reply": "2025-07-27T21:11:09.361512Z",
     "shell.execute_reply.started": "2025-07-27T21:11:09.359080Z"
    }
   },
   "source": [
    "# Push to hugging face"
   ]
  },
  {
   "cell_type": "code",
   "execution_count": 73,
   "metadata": {
    "execution": {
     "iopub.execute_input": "2025-07-27T21:11:54.498141Z",
     "iopub.status.busy": "2025-07-27T21:11:54.497392Z",
     "iopub.status.idle": "2025-07-27T21:11:54.517473Z",
     "shell.execute_reply": "2025-07-27T21:11:54.516595Z",
     "shell.execute_reply.started": "2025-07-27T21:11:54.498109Z"
    }
   },
   "outputs": [
    {
     "data": {
      "application/vnd.jupyter.widget-view+json": {
       "model_id": "7c2b130ecc6b4a1e8c185ad818a065fe",
       "version_major": 2,
       "version_minor": 0
      },
      "text/plain": [
       "VBox(children=(HTML(value='<center> <img\\nsrc=https://huggingface.co/front/assets/huggingface_logo-noborder.sv…"
      ]
     },
     "metadata": {},
     "output_type": "display_data"
    }
   ],
   "source": [
    "from huggingface_hub import notebook_login\n",
    "notebook_login()\n"
   ]
  },
  {
   "cell_type": "code",
   "execution_count": 74,
   "metadata": {
    "execution": {
     "iopub.execute_input": "2025-07-27T21:13:28.985341Z",
     "iopub.status.busy": "2025-07-27T21:13:28.985067Z",
     "iopub.status.idle": "2025-07-27T21:13:44.052900Z",
     "shell.execute_reply": "2025-07-27T21:13:44.052266Z",
     "shell.execute_reply.started": "2025-07-27T21:13:28.985321Z"
    }
   },
   "outputs": [
    {
     "data": {
      "application/vnd.jupyter.widget-view+json": {
       "model_id": "348468f0106d416e86b782ff78440aea",
       "version_major": 2,
       "version_minor": 0
      },
      "text/plain": [
       "Uploading...:   0%|          | 0.00/499M [00:00<?, ?B/s]"
      ]
     },
     "metadata": {},
     "output_type": "display_data"
    },
    {
     "data": {
      "application/vnd.jupyter.widget-view+json": {
       "model_id": "2c0f45c174d247acb4223d0ba7b002f7",
       "version_major": 2,
       "version_minor": 0
      },
      "text/plain": [
       "README.md: 0.00B [00:00, ?B/s]"
      ]
     },
     "metadata": {},
     "output_type": "display_data"
    },
    {
     "data": {
      "text/plain": [
       "CommitInfo(commit_url='https://huggingface.co/suryaummadi/review-roberta-customer-experience-analytics/commit/57dc453b332427851f32dbd745c9955a1c195ff3', commit_message='Upload tokenizer', commit_description='', oid='57dc453b332427851f32dbd745c9955a1c195ff3', pr_url=None, repo_url=RepoUrl('https://huggingface.co/suryaummadi/review-roberta-customer-experience-analytics', endpoint='https://huggingface.co', repo_type='model', repo_id='suryaummadi/review-roberta-customer-experience-analytics'), pr_revision=None, pr_num=None)"
      ]
     },
     "execution_count": 74,
     "metadata": {},
     "output_type": "execute_result"
    }
   ],
   "source": [
    "model.push_to_hub(\"suryaummadi/review-roberta-customer-experience-analytics\")\n",
    "tokenizer.push_to_hub(\"suryaummadi/review-roberta-customer-experience-analytics\")"
   ]
  },
  {
   "cell_type": "markdown",
   "metadata": {},
   "source": [
    "# Loading from hugging face and working"
   ]
  },
  {
   "cell_type": "code",
   "execution_count": 78,
   "metadata": {
    "execution": {
     "iopub.execute_input": "2025-07-27T21:18:58.910169Z",
     "iopub.status.busy": "2025-07-27T21:18:58.909428Z",
     "iopub.status.idle": "2025-07-27T21:18:59.617743Z",
     "shell.execute_reply": "2025-07-27T21:18:59.617081Z",
     "shell.execute_reply.started": "2025-07-27T21:18:58.910143Z"
    }
   },
   "outputs": [
    {
     "name": "stderr",
     "output_type": "stream",
     "text": [
      "Device set to use cuda:0\n"
     ]
    },
    {
     "name": "stdout",
     "output_type": "stream",
     "text": [
      "The customer feels 98.0% positive about the product.\n"
     ]
    }
   ],
   "source": [
    "from transformers import pipeline\n",
    "\n",
    "pipe = pipeline(\n",
    "    \"text-classification\",\n",
    "    model=\"suryaummadi/review-roberta-customer-experience-analytics\",\n",
    "    return_all_scores=True\n",
    ")\n",
    "\n",
    "def get_top_sentiment(text):\n",
    "    outputs = pipe(text)\n",
    "    scores = outputs[0]\n",
    "\n",
    "    # Find label with highest score\n",
    "    top = max(scores, key=lambda x: x['score'])\n",
    "    label = top['label']  # labels are already 'negative', 'neutral', 'positive'\n",
    "    percentage = top['score'] * 100\n",
    "\n",
    "    return f\"The customer feels {percentage:.1f}% {label} about the product.\"\n",
    "\n",
    "# Example usage\n",
    "review = \"The product quality is excellent and I love using it every day.\"\n",
    "print(get_top_sentiment(review))\n"
   ]
  },
  {
   "cell_type": "code",
   "execution_count": 80,
   "metadata": {
    "execution": {
     "iopub.execute_input": "2025-07-27T21:30:14.520737Z",
     "iopub.status.busy": "2025-07-27T21:30:14.520273Z",
     "iopub.status.idle": "2025-07-27T21:30:14.536630Z",
     "shell.execute_reply": "2025-07-27T21:30:14.535931Z",
     "shell.execute_reply.started": "2025-07-27T21:30:14.520715Z"
    }
   },
   "outputs": [
    {
     "data": {
      "text/plain": [
       "[[{'label': 'negative', 'score': 0.9853103160858154},\n",
       "  {'label': 'neutral', 'score': 0.005511525087058544},\n",
       "  {'label': 'positive', 'score': 0.009178121574223042}]]"
      ]
     },
     "execution_count": 80,
     "metadata": {},
     "output_type": "execute_result"
    }
   ],
   "source": [
    "pipe('fuck your product')"
   ]
  },
  {
   "cell_type": "code",
   "execution_count": null,
   "metadata": {},
   "outputs": [],
   "source": [
    "##End"
   ]
  }
 ],
 "metadata": {
  "kaggle": {
   "accelerator": "gpu",
   "dataSources": [],
   "dockerImageVersionId": 31090,
   "isGpuEnabled": true,
   "isInternetEnabled": true,
   "language": "python",
   "sourceType": "notebook"
  },
  "kernelspec": {
   "display_name": "Python 3 (ipykernel)",
   "language": "python",
   "name": "python3"
  },
  "language_info": {
   "codemirror_mode": {
    "name": "ipython",
    "version": 3
   },
   "file_extension": ".py",
   "mimetype": "text/x-python",
   "name": "python",
   "nbconvert_exporter": "python",
   "pygments_lexer": "ipython3",
   "version": "3.10.6"
  }
 },
 "nbformat": 4,
 "nbformat_minor": 4
}
